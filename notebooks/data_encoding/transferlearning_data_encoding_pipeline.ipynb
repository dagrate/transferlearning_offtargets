{
  "cells": [
    {
      "cell_type": "code",
      "execution_count": null,
      "metadata": {
        "id": "AQUqNIVGvaJl"
      },
      "outputs": [],
      "source": [
        "# ---   DATA ENCODING PIPELINE   ---\n",
        "# ----------------------------------\n",
        "\n",
        "__date__ = '30-Jan-22'\n",
        "__author__ = 'jeremy charlier'\n",
        "__revised__ = '26-Mar-22'\n",
        "\n",
        "\"\"\"comments:\n",
        ">> the encoder class is inherited from\n",
        "   [1]: \"CRISPR-Net: A Recurrent Convolutional Network Quantiﬁes\n",
        "   CRISPR Off-Target Activities with Mismatches and Indels\", J. Lin et al\n",
        "   https://onlinelibrary.wiley.com/doi/epdf/10.1002/advs.201903562\n",
        "\n",
        ">> guideseq data is not encoded in this pipeline.\n",
        "\"\"\"\n",
        "\n",
        "import sys   # append drive directory to python sys path\n",
        "path_to_module = 'MODULE_PATH'\n",
        "sys.path.append(path_to_module)\n",
        "sys.path.append(path_to_module+'/code/')   # folder that python src code\n",
        "sys.path.append(path_to_module)\n",
        "\n",
        "import random\n",
        "random.seed(42)\n",
        "import pickle as pkl\n",
        "import numpy as np\n",
        "import pandas as pd\n",
        "#\n",
        "from transferlearning_datapipeline import datapipeline\n",
        "from transferlearning_modelpipeline import modelpipeline\n",
        "import transferlearning_utils as tlrn"
      ]
    },
    {
      "cell_type": "code",
      "execution_count": null,
      "metadata": {
        "id": "2-RKUvAQ2mB2"
      },
      "outputs": [],
      "source": [
        "flpath='FOLDER_PATH'\n",
        "nms=[\n",
        " flpath + 'listgarten_elevation_cd33.csv',\n",
        " flpath + 'CIRCLE_seq_10gRNA_wholeDataset.csv',\n",
        " flpath + 'SITE-Seq_offTarget_wholeDataset.csv',\n",
        " flpath + 'listgarten_elevation_guideseq.csv',\n",
        " flpath + 'Listgarten_22gRNA_wholeDataset.csv',\n",
        " flpath + 'Kleinstiver_5gRNA_wholeDataset.csv',\n",
        " flpath + 'listgarten_elevation_hmg.csv']\n",
        "\n",
        "nmfcts=[\n",
        " datautils.load_elevation_CD33_dataset,\n",
        " datautils.load_CIRCLE_data,\n",
        " datautils.load_siteseq_data,\n",
        " datautils.load_elevation_guideseq_data,\n",
        " datautils.load_22sgRNA_data,\n",
        " datautils.load_Kleinstiver_data,\n",
        " datautils.load_elevation_hmg_dataset]\n",
        "\n",
        "print(\"!!! DATA ENCODING !!!\")\n",
        "encodeddata=encodeDataPipeline(nms, nmfcts)\n",
        "print(\"--- end of data encoding ---\")"
      ]
    }
  ],
  "metadata": {
    "colab": {
      "provenance": []
    },
    "kernelspec": {
      "display_name": "Python 3",
      "name": "python3"
    },
    "language_info": {
      "name": "python"
    }
  },
  "nbformat": 4,
  "nbformat_minor": 0
}